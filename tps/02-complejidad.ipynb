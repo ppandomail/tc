{
 "cells": [
  {
   "cell_type": "markdown",
   "id": "834450d5-f19f-4722-9174-17c909cbb0a9",
   "metadata": {},
   "source": [
    "# Complejidad Computacional"
   ]
  },
  {
   "cell_type": "markdown",
   "id": "8b81909f-a1c3-43da-86b5-ead2f0bc953a",
   "metadata": {},
   "source": [
    "## Complejidad Temporal"
   ]
  },
  {
   "cell_type": "code",
   "execution_count": 1,
   "id": "5fe3d928-ae63-4e88-8bed-b5a63e0152bc",
   "metadata": {},
   "outputs": [
    {
     "name": "stdout",
     "output_type": "stream",
     "text": [
      "Tiempo de ejecución: 0.5769727230072021 segundos\n"
     ]
    }
   ],
   "source": [
    "import time\n",
    "\n",
    "# O(n)\n",
    "def suma_n_numeros(n):\n",
    "    suma = 0\n",
    "    for i in range(1, n + 1):\n",
    "        suma += i\n",
    "    return suma\n",
    "\n",
    "n = 10000000\n",
    "start_time = time.time()\n",
    "suma_n_numeros(n)\n",
    "end_time = time.time()\n",
    "print(f\"Tiempo de ejecución: {end_time - start_time} segundos\")"
   ]
  },
  {
   "cell_type": "markdown",
   "id": "67e1a2b2-632f-49e7-8f30-0c5d2b01f774",
   "metadata": {},
   "source": [
    "## Complejidad Espacial"
   ]
  },
  {
   "cell_type": "code",
   "execution_count": 2,
   "id": "dc1ed62c-5edd-4fd9-8da9-62aaaf302ea4",
   "metadata": {},
   "outputs": [
    {
     "name": "stdout",
     "output_type": "stream",
     "text": [
      "Memoria utilizada: 800968 bytes\n"
     ]
    }
   ],
   "source": [
    "# O(n)\n",
    "def crear_lista(n):\n",
    "    lista = []\n",
    "    for i in range(n):\n",
    "        lista.append(i)\n",
    "    return lista\n",
    "\n",
    "n = 100000\n",
    "lista = crear_lista(n)\n",
    "print(f\"Memoria utilizada: {lista.__sizeof__()} bytes\")"
   ]
  },
  {
   "cell_type": "markdown",
   "id": "8245c5be-0830-4057-8223-2f392b24ec92",
   "metadata": {},
   "source": [
    "## Comparación de eficiencia"
   ]
  },
  {
   "cell_type": "code",
   "execution_count": 3,
   "id": "7957e40d-7518-4e42-8f44-003e1b8dc38a",
   "metadata": {},
   "outputs": [
    {
     "name": "stdout",
     "output_type": "stream",
     "text": [
      "Tiempo de ejecución: 8.106231689453125e-05 segundos\n"
     ]
    }
   ],
   "source": [
    "import time\n",
    "\n",
    "# O(1)\n",
    "def suma_directa(n):\n",
    "    return n * (n + 1) // 2\n",
    "\n",
    "n = 1000000\n",
    "start_time = time.time()\n",
    "suma_directa(n)\n",
    "end_time = time.time()\n",
    "print(f\"Tiempo de ejecución: {end_time - start_time} segundos\")"
   ]
  },
  {
   "cell_type": "markdown",
   "id": "26351332-6117-4b4d-a89e-bc24162c7387",
   "metadata": {},
   "source": [
    "## Regla de la suma"
   ]
  },
  {
   "cell_type": "code",
   "execution_count": 4,
   "id": "c8e309c4-e7c0-4a35-a13e-3bbe8ecdad0a",
   "metadata": {},
   "outputs": [
    {
     "name": "stdout",
     "output_type": "stream",
     "text": [
      "0\n",
      "1\n",
      "2\n",
      "3\n",
      "4\n",
      "5\n",
      "6\n",
      "7\n",
      "8\n",
      "9\n",
      "0 0\n",
      "0 1\n",
      "0 2\n",
      "0 3\n",
      "0 4\n",
      "0 5\n",
      "0 6\n",
      "0 7\n",
      "0 8\n",
      "0 9\n",
      "1 0\n",
      "1 1\n",
      "1 2\n",
      "1 3\n",
      "1 4\n",
      "1 5\n",
      "1 6\n",
      "1 7\n",
      "1 8\n",
      "1 9\n",
      "2 0\n",
      "2 1\n",
      "2 2\n",
      "2 3\n",
      "2 4\n",
      "2 5\n",
      "2 6\n",
      "2 7\n",
      "2 8\n",
      "2 9\n",
      "3 0\n",
      "3 1\n",
      "3 2\n",
      "3 3\n",
      "3 4\n",
      "3 5\n",
      "3 6\n",
      "3 7\n",
      "3 8\n",
      "3 9\n",
      "4 0\n",
      "4 1\n",
      "4 2\n",
      "4 3\n",
      "4 4\n",
      "4 5\n",
      "4 6\n",
      "4 7\n",
      "4 8\n",
      "4 9\n",
      "5 0\n",
      "5 1\n",
      "5 2\n",
      "5 3\n",
      "5 4\n",
      "5 5\n",
      "5 6\n",
      "5 7\n",
      "5 8\n",
      "5 9\n",
      "6 0\n",
      "6 1\n",
      "6 2\n",
      "6 3\n",
      "6 4\n",
      "6 5\n",
      "6 6\n",
      "6 7\n",
      "6 8\n",
      "6 9\n",
      "7 0\n",
      "7 1\n",
      "7 2\n",
      "7 3\n",
      "7 4\n",
      "7 5\n",
      "7 6\n",
      "7 7\n",
      "7 8\n",
      "7 9\n",
      "8 0\n",
      "8 1\n",
      "8 2\n",
      "8 3\n",
      "8 4\n",
      "8 5\n",
      "8 6\n",
      "8 7\n",
      "8 8\n",
      "8 9\n",
      "9 0\n",
      "9 1\n",
      "9 2\n",
      "9 3\n",
      "9 4\n",
      "9 5\n",
      "9 6\n",
      "9 7\n",
      "9 8\n",
      "9 9\n"
     ]
    }
   ],
   "source": [
    "def regla_suma(n):\n",
    "    # Parte 1: O(n)\n",
    "    for i in range(n):\n",
    "        print(i)\n",
    "    \n",
    "    # Parte 2: O(n²)\n",
    "    for i in range(n):\n",
    "        for j in range(n):\n",
    "            print(i, j)\n",
    "\n",
    "# Complejidad total: O(n + n²) = O(n²)\n",
    "regla_suma(10)"
   ]
  },
  {
   "cell_type": "markdown",
   "id": "ea9c0c30-56db-4cfd-8d8c-8c5bedc4c586",
   "metadata": {},
   "source": [
    "## Regla de la multiplicación"
   ]
  },
  {
   "cell_type": "code",
   "execution_count": 5,
   "id": "4f0dac6a-e94d-4ec7-8833-baf5b7cc879b",
   "metadata": {},
   "outputs": [
    {
     "name": "stdout",
     "output_type": "stream",
     "text": [
      "0\n",
      "0\n",
      "1\n",
      "2\n",
      "3\n",
      "4\n",
      "5\n",
      "6\n",
      "7\n",
      "8\n",
      "9\n",
      "1\n",
      "0\n",
      "1\n",
      "2\n",
      "3\n",
      "4\n",
      "5\n",
      "6\n",
      "7\n",
      "8\n",
      "9\n",
      "2\n",
      "0\n",
      "1\n",
      "2\n",
      "3\n",
      "4\n",
      "5\n",
      "6\n",
      "7\n",
      "8\n",
      "9\n",
      "3\n",
      "0\n",
      "1\n",
      "2\n",
      "3\n",
      "4\n",
      "5\n",
      "6\n",
      "7\n",
      "8\n",
      "9\n",
      "4\n",
      "0\n",
      "1\n",
      "2\n",
      "3\n",
      "4\n",
      "5\n",
      "6\n",
      "7\n",
      "8\n",
      "9\n",
      "5\n",
      "0\n",
      "1\n",
      "2\n",
      "3\n",
      "4\n",
      "5\n",
      "6\n",
      "7\n",
      "8\n",
      "9\n",
      "6\n",
      "0\n",
      "1\n",
      "2\n",
      "3\n",
      "4\n",
      "5\n",
      "6\n",
      "7\n",
      "8\n",
      "9\n",
      "7\n",
      "0\n",
      "1\n",
      "2\n",
      "3\n",
      "4\n",
      "5\n",
      "6\n",
      "7\n",
      "8\n",
      "9\n",
      "8\n",
      "0\n",
      "1\n",
      "2\n",
      "3\n",
      "4\n",
      "5\n",
      "6\n",
      "7\n",
      "8\n",
      "9\n",
      "9\n",
      "0\n",
      "1\n",
      "2\n",
      "3\n",
      "4\n",
      "5\n",
      "6\n",
      "7\n",
      "8\n",
      "9\n"
     ]
    }
   ],
   "source": [
    "def regla_multiplicacion(n):\n",
    "    # Parte 1: O(n)\n",
    "    for i in range(n):\n",
    "        print(i)\n",
    "        # Parte 2: O(n)\n",
    "        for i in range(n):\n",
    "            print(i)\n",
    "\n",
    "# Complejidad total: O(n * n) = O(n²)\n",
    "regla_multiplicacion(10)"
   ]
  },
  {
   "cell_type": "markdown",
   "id": "61d0ca8c-c2ff-410a-8b07-ea02d69c15af",
   "metadata": {},
   "source": [
    "## Orden de Complejidad"
   ]
  },
  {
   "cell_type": "code",
   "execution_count": 6,
   "id": "37c44764-66a3-4dfd-b06a-f50f95f2aede",
   "metadata": {},
   "outputs": [],
   "source": [
    "# O(1)\n",
    "def algoritmo_constante():\n",
    "    return 42 "
   ]
  },
  {
   "cell_type": "code",
   "execution_count": 7,
   "id": "4a0c5ea6-9223-43dc-9167-659ff714fb43",
   "metadata": {},
   "outputs": [],
   "source": [
    "# O(n)\n",
    "def algoritmo_lineal(n):\n",
    "    for i in range(n):\n",
    "        print(i)  "
   ]
  },
  {
   "cell_type": "code",
   "execution_count": 8,
   "id": "a19f8691-6141-4b78-b76f-22718975b0c7",
   "metadata": {},
   "outputs": [],
   "source": [
    "# O(n²)\n",
    "def algoritmo_cuadratico(n):\n",
    "    for i in range(n):\n",
    "        for j in range(n):\n",
    "            print(i, j)  "
   ]
  },
  {
   "cell_type": "code",
   "execution_count": 9,
   "id": "6a0153bc-5a46-49de-bd65-85c9c8dbaba4",
   "metadata": {},
   "outputs": [
    {
     "name": "stdout",
     "output_type": "stream",
     "text": [
      "0\n",
      "1\n",
      "2\n",
      "3\n",
      "4\n",
      "5\n",
      "6\n",
      "7\n",
      "8\n",
      "9\n",
      "0 0\n",
      "0 1\n",
      "0 2\n",
      "0 3\n",
      "0 4\n",
      "0 5\n",
      "0 6\n",
      "0 7\n",
      "0 8\n",
      "0 9\n",
      "1 0\n",
      "1 1\n",
      "1 2\n",
      "1 3\n",
      "1 4\n",
      "1 5\n",
      "1 6\n",
      "1 7\n",
      "1 8\n",
      "1 9\n",
      "2 0\n",
      "2 1\n",
      "2 2\n",
      "2 3\n",
      "2 4\n",
      "2 5\n",
      "2 6\n",
      "2 7\n",
      "2 8\n",
      "2 9\n",
      "3 0\n",
      "3 1\n",
      "3 2\n",
      "3 3\n",
      "3 4\n",
      "3 5\n",
      "3 6\n",
      "3 7\n",
      "3 8\n",
      "3 9\n",
      "4 0\n",
      "4 1\n",
      "4 2\n",
      "4 3\n",
      "4 4\n",
      "4 5\n",
      "4 6\n",
      "4 7\n",
      "4 8\n",
      "4 9\n",
      "5 0\n",
      "5 1\n",
      "5 2\n",
      "5 3\n",
      "5 4\n",
      "5 5\n",
      "5 6\n",
      "5 7\n",
      "5 8\n",
      "5 9\n",
      "6 0\n",
      "6 1\n",
      "6 2\n",
      "6 3\n",
      "6 4\n",
      "6 5\n",
      "6 6\n",
      "6 7\n",
      "6 8\n",
      "6 9\n",
      "7 0\n",
      "7 1\n",
      "7 2\n",
      "7 3\n",
      "7 4\n",
      "7 5\n",
      "7 6\n",
      "7 7\n",
      "7 8\n",
      "7 9\n",
      "8 0\n",
      "8 1\n",
      "8 2\n",
      "8 3\n",
      "8 4\n",
      "8 5\n",
      "8 6\n",
      "8 7\n",
      "8 8\n",
      "8 9\n",
      "9 0\n",
      "9 1\n",
      "9 2\n",
      "9 3\n",
      "9 4\n",
      "9 5\n",
      "9 6\n",
      "9 7\n",
      "9 8\n",
      "9 9\n"
     ]
    }
   ],
   "source": [
    "n = 10\n",
    "algoritmo_constante()\n",
    "algoritmo_lineal(n)\n",
    "algoritmo_cuadratico(n)"
   ]
  },
  {
   "cell_type": "markdown",
   "id": "e379f183-83f4-477c-b82e-1710216f5d93",
   "metadata": {},
   "source": [
    "## Búsqueda binaria"
   ]
  },
  {
   "cell_type": "code",
   "execution_count": 11,
   "id": "3e077a53-3ee5-4bbf-8b63-0a89d15180a5",
   "metadata": {},
   "outputs": [
    {
     "name": "stdout",
     "output_type": "stream",
     "text": [
      "3\n"
     ]
    }
   ],
   "source": [
    "# O (log n)\n",
    "def busqueda_binaria(lista, objetivo):\n",
    "    inicio = 0\n",
    "    fin = len(lista) - 1\n",
    "    \n",
    "    while inicio <= fin:\n",
    "        medio = (inicio + fin) // 2\n",
    "    \n",
    "        if lista[medio] == objetivo:\n",
    "            return medio\n",
    "        elif lista[medio] < objetivo:\n",
    "            inicio = medio + 1\n",
    "        else:\n",
    "            fin = medio - 1\n",
    "    \n",
    "    return -1\n",
    "\n",
    "lista = [1, 3, 5, 7, 9]\n",
    "objetivo = 7\n",
    "print(busqueda_binaria(lista, objetivo))"
   ]
  },
  {
   "cell_type": "markdown",
   "id": "f89515b7-4084-4d11-934e-2e384a74fd01",
   "metadata": {},
   "source": [
    "## Ordenamiento burbujeo"
   ]
  },
  {
   "cell_type": "code",
   "execution_count": 12,
   "id": "8d745c8a-e908-4942-8bb5-268c9ec18149",
   "metadata": {},
   "outputs": [
    {
     "name": "stdout",
     "output_type": "stream",
     "text": [
      "[2, 3, 4, 5, 8]\n"
     ]
    }
   ],
   "source": [
    "# O(n²)\n",
    "def ordenamiento_burbuja(lista):\n",
    "    for i in range(len(lista) - 1):\n",
    "        for j in range(len(lista) - 1 - i):\n",
    "            if lista[j] > lista[j + 1]:\n",
    "                lista[j], lista[j + 1] = lista[j + 1], lista[j]\n",
    "    return lista\n",
    "\n",
    "lista = [5, 3, 8, 4, 2]\n",
    "print(ordenamiento_burbuja(lista))"
   ]
  },
  {
   "cell_type": "markdown",
   "id": "469802bc-a5ca-4ef1-b2d5-32493f3465a1",
   "metadata": {},
   "source": [
    "## Complejidad Exponencial"
   ]
  },
  {
   "cell_type": "code",
   "execution_count": 13,
   "id": "0ca9cb4e-ecee-4dcd-bcb5-208a2e35f7b0",
   "metadata": {},
   "outputs": [
    {
     "name": "stdout",
     "output_type": "stream",
     "text": [
      "El 32-ésimo número de Fibonacci es: 2178309\n",
      "Tiempo de ejecución: 0.39002013206481934 segundos\n"
     ]
    }
   ],
   "source": [
    "import time\n",
    "\n",
    "# O(2^n)\n",
    "def fibonacci_exponential(n):\n",
    "    if n <= 1:\n",
    "        return n\n",
    "    return fibonacci_exponential(n - 1) + fibonacci_exponential(n - 2)\n",
    "\n",
    "n = 32\n",
    "start_time = time.time()\n",
    "print(f\"El {n}-ésimo número de Fibonacci es: {fibonacci_exponential(n)}\")\n",
    "end_time = time.time()\n",
    "print(f\"Tiempo de ejecución: {end_time - start_time} segundos\")"
   ]
  }
 ],
 "metadata": {
  "kernelspec": {
   "display_name": "Python [conda env:base] *",
   "language": "python",
   "name": "conda-base-py"
  },
  "language_info": {
   "codemirror_mode": {
    "name": "ipython",
    "version": 3
   },
   "file_extension": ".py",
   "mimetype": "text/x-python",
   "name": "python",
   "nbconvert_exporter": "python",
   "pygments_lexer": "ipython3",
   "version": "3.12.7"
  }
 },
 "nbformat": 4,
 "nbformat_minor": 5
}
